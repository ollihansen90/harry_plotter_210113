{
  "nbformat": 4,
  "nbformat_minor": 0,
  "metadata": {
    "colab": {
      "name": "HarryPlotter.ipynb",
      "provenance": []
    },
    "kernelspec": {
      "name": "python3",
      "display_name": "Python 3"
    }
  },
  "cells": [
    {
      "cell_type": "markdown",
      "metadata": {
        "id": "5S9GaoY4sjmF"
      },
      "source": [
        "## Harry Plotter\r\n",
        "Zum Plotten von ganz zauberhaften Abbildungen."
      ]
    },
    {
      "cell_type": "code",
      "metadata": {
        "id": "ABctPd26smej"
      },
      "source": [
        "import numpy as np\r\n",
        "import matplotlib.pyplot as plt\r\n",
        "\r\n",
        "def strtonp(eingabe):\r\n",
        "    stringlist = eingabe.split(\"\\n\")\r\n",
        "    pointlist = []\r\n",
        "    for string in stringlist:\r\n",
        "        if \".\" in string:\r\n",
        "            point = string[1:-1].split(\", \")\r\n",
        "            point = [float(entry) for entry in point]\r\n",
        "            pointlist.append(point)\r\n",
        "\r\n",
        "    return np.array(pointlist)"
      ],
      "execution_count": 43,
      "outputs": []
    },
    {
      "cell_type": "code",
      "metadata": {
        "colab": {
          "base_uri": "https://localhost:8080/",
          "height": 265
        },
        "id": "BFmOaLYOs3vf",
        "outputId": "ccd3e248-562d-4ece-959f-4c876e1a0541"
      },
      "source": [
        "eingabe1 = \"\"\"\r\n",
        "(3.491010788442182, 4.526671671740191)\r\n",
        "(2.555341572520179, 2.456987629872807)\r\n",
        "    \"\"\"\r\n",
        "eingabe2 = \"\"\"\r\n",
        "(0.491010788442182, 0.526671671740191)\r\n",
        "(0.555341572520179, 0.456987629872807)\r\n",
        "    \"\"\"\r\n",
        "\r\n",
        "pointlist1 = strtonp(eingabe1)\r\n",
        "pointlist2 = strtonp(eingabe2)\r\n",
        "\r\n",
        "plt.figure()\r\n",
        "plt.plot(pointlist1[:,0],pointlist1[:,1], \"b.\")\r\n",
        "plt.plot(pointlist2[:,0],pointlist2[:,1], \"r.\")\r\n",
        "plt.grid()\r\n",
        "plt.show()"
      ],
      "execution_count": 46,
      "outputs": [
        {
          "output_type": "display_data",
          "data": {
            "image/png": "[encoded data removed]",
            "text/plain": [
              "<Figure size 432x288 with 1 Axes>"
            ]
          },
          "metadata": {
            "tags": [],
            "needs_background": "light"
          }
        }
      ]
    },
    {
      "cell_type": "code",
      "metadata": {
        "colab": {
          "base_uri": "https://localhost:8080/"
        },
        "id": "ihehlbVvuwHo",
        "outputId": "2f8036b6-b2ea-4a56-d3bc-c9d8dc487a59"
      },
      "source": [
        ""
      ],
      "execution_count": null,
      "outputs": [
        {
          "output_type": "stream",
          "text": [
            "-0.1\n"
          ],
          "name": "stdout"
        }
      ]
    }
  ]
}